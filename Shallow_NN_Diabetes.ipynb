{
  "nbformat": 4,
  "nbformat_minor": 0,
  "metadata": {
    "colab": {
      "provenance": []
    },
    "kernelspec": {
      "name": "python3",
      "display_name": "Python 3"
    },
    "language_info": {
      "name": "python"
    }
  },
  "cells": [
    {
      "cell_type": "code",
      "execution_count": 2,
      "metadata": {
        "colab": {
          "base_uri": "https://localhost:8080/"
        },
        "id": "g_IHms6BaGm3",
        "outputId": "e1849b8f-367a-49bd-fb39-6ff50c20ae96"
      },
      "outputs": [
        {
          "output_type": "stream",
          "name": "stdout",
          "text": [
            "Epoch 0, Loss: 1.4011\n",
            "Epoch 1000, Loss: 0.4206\n",
            "Epoch 2000, Loss: 0.4219\n",
            "Epoch 3000, Loss: 0.3890\n",
            "Epoch 4000, Loss: 0.3799\n",
            "Epoch 5000, Loss: 0.3849\n",
            "Epoch 6000, Loss: 0.3838\n",
            "Epoch 7000, Loss: 0.3825\n",
            "Epoch 8000, Loss: 0.3758\n",
            "Epoch 9000, Loss: 0.3776\n",
            "Test Accuracy: 0.75\n"
          ]
        }
      ],
      "source": [
        "import numpy as np\n",
        "from sklearn.datasets import load_diabetes\n",
        "from sklearn.model_selection import train_test_split\n",
        "from sklearn.preprocessing import StandardScaler, Binarizer\n",
        "\n",
        "# Activation functions and derivatives\n",
        "sigmoid = lambda x: 1 / (1 + np.exp(-x))\n",
        "relu = lambda x: np.maximum(0, x)\n",
        "relu_derivative = lambda x: np.where(x > 0, 1, 0)\n",
        "\n",
        "# Load and preprocess data\n",
        "X, y = load_diabetes(return_X_y=True)\n",
        "y = Binarizer(threshold=np.median(y)).fit_transform(y.reshape(-1, 1))\n",
        "X_train, X_test, y_train, y_test = train_test_split(X, y, test_size=0.2, random_state=42)\n",
        "X_train, X_test = StandardScaler().fit_transform(X_train), StandardScaler().fit_transform(X_test)\n",
        "\n",
        "# Initialize parameters\n",
        "W1, b1 = np.random.randn(X_train.shape[1], 4), np.zeros((1, 4))\n",
        "W2, b2 = np.random.randn(4, 1), np.zeros((1, 1))\n",
        "lr, epochs = 0.01, 10000\n",
        "\n",
        "# Training loop\n",
        "for _ in range(epochs):\n",
        "    H = relu(X_train @ W1 + b1)\n",
        "    y_pred = sigmoid(H @ W2 + b2)\n",
        "    loss = -np.mean(y_train * np.log(y_pred + 1e-8) + (1 - y_train) * np.log(1 - y_pred + 1e-8))\n",
        "\n",
        "    # Backpropagation\n",
        "    dW2, db2 = H.T @ (y_pred - y_train), np.sum(y_pred - y_train, axis=0, keepdims=True)\n",
        "    dW1 = X_train.T @ ((y_pred - y_train) @ W2.T * relu_derivative(H))\n",
        "    db1 = np.sum((y_pred - y_train) @ W2.T * relu_derivative(H), axis=0, keepdims=True)\n",
        "\n",
        "    # Update weights\n",
        "    W1, b1, W2, b2 = W1 - lr * dW1, b1 - lr * db1, W2 - lr * dW2, b2 - lr * db2\n",
        "\n",
        "    if _ % 1000 == 0:\n",
        "        print(f\"Epoch {_}, Loss: {loss:.4f}\")\n",
        "\n",
        "# Evaluation\n",
        "accuracy = np.mean((sigmoid(relu(X_test @ W1 + b1) @ W2 + b2) > 0.5).astype(int) == y_test)\n",
        "print(f\"Test Accuracy: {accuracy:.2f}\")"
      ]
    }
  ]
}